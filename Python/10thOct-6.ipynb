{
 "cells": [
  {
   "cell_type": "code",
   "execution_count": 21,
   "metadata": {},
   "outputs": [
    {
     "name": "stdout",
     "output_type": "stream",
     "text": [
      "Enter a word you want to reverse: two_waits\n",
      "stiaw_owt\n"
     ]
    }
   ],
   "source": [
    "# printing the reverse of the input string\n",
    "def rev():\n",
    "    while True:\n",
    "        \n",
    "        s= input('Enter a word you want to reverse: ')\n",
    "    \n",
    "        if len(s)==0 or len(s)==1:\n",
    "            print('please enter a string of atleast 2 characters ')\n",
    "            continue\n",
    "        else:\n",
    "            s=s[::-1]       #reversing the string\n",
    "            break\n",
    "    print(s)                #printing the output\n",
    "\n",
    "rev()    "
   ]
  },
  {
   "cell_type": "code",
   "execution_count": null,
   "metadata": {},
   "outputs": [],
   "source": []
  }
 ],
 "metadata": {
  "kernelspec": {
   "display_name": "Python 3",
   "language": "python",
   "name": "python3"
  },
  "language_info": {
   "codemirror_mode": {
    "name": "ipython",
    "version": 3
   },
   "file_extension": ".py",
   "mimetype": "text/x-python",
   "name": "python",
   "nbconvert_exporter": "python",
   "pygments_lexer": "ipython3",
   "version": "3.7.6"
  }
 },
 "nbformat": 4,
 "nbformat_minor": 4
}

{
 "cells": [
  {
   "cell_type": "code",
   "execution_count": 59,
   "metadata": {},
   "outputs": [
    {
     "name": "stdout",
     "output_type": "stream",
     "text": [
      "enter first number: 7\n",
      "enter second number: 4\n",
      "24\n"
     ]
    }
   ],
   "source": [
    "def GCD():\n",
    "    n1= int(input('enter first number: '))\n",
    "    n2= int(input('enter second number: '))\n",
    "    f1=1\n",
    "    f2=1\n",
    "    if n1>=1 and n2>=1:                               # checking if the numbers are positive or not\n",
    "        \n",
    "        for i in range(1, n1+1):                      # factorial of first number\n",
    "            f1=f1*i\n",
    "            i+=1\n",
    "    \n",
    "        for j in range(1, n2+1):                      # factorial of second number\n",
    "        \n",
    "            f2=f2*j\n",
    "            j+=1\n",
    "        \n",
    "        while(f2):                                    # applying euclidian lemma method or euclidian algorithm\n",
    "            f1,f2=f2,f1%f2\n",
    "            \n",
    "        print(f1)\n",
    "    \n",
    "    else:\n",
    "        print(\"Please enter a non zero positive number\")\n",
    "        \n",
    "GCD()"
   ]
  },
  {
   "cell_type": "code",
   "execution_count": null,
   "metadata": {},
   "outputs": [],
   "source": []
  },
  {
   "cell_type": "code",
   "execution_count": null,
   "metadata": {},
   "outputs": [],
   "source": []
  }
 ],
 "metadata": {
  "kernelspec": {
   "display_name": "Python 3",
   "language": "python",
   "name": "python3"
  },
  "language_info": {
   "codemirror_mode": {
    "name": "ipython",
    "version": 3
   },
   "file_extension": ".py",
   "mimetype": "text/x-python",
   "name": "python",
   "nbconvert_exporter": "python",
   "pygments_lexer": "ipython3",
   "version": "3.7.6"
  }
 },
 "nbformat": 4,
 "nbformat_minor": 4
}

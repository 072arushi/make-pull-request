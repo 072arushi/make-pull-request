{
 "cells": [
  {
   "cell_type": "code",
   "execution_count": 6,
   "metadata": {},
   "outputs": [
    {
     "name": "stdout",
     "output_type": "stream",
     "text": [
      "Enter the desired number of terms:7\n",
      "Fibonacci sequence:\n",
      "1 1 2 3 5 8 13 "
     ]
    }
   ],
   "source": [
    "# Program to display the Fibonacci sequence up to n-th term\n",
    "def fib():\n",
    "    \n",
    "    n= int(input(\"Enter the desired number of terms:\"))\n",
    "    # first two terms\n",
    "    n1, n2 = 0, 1\n",
    "    count = 0\n",
    "\n",
    "    # check if the number of terms is valid\n",
    "    if n <= 0:\n",
    "       print(\"Please enter a positive integer\")\n",
    "    elif n == 1:\n",
    "       print(\"Fibonacci sequence upto\",n,\":\")\n",
    "       print(n1)\n",
    "    else:\n",
    "       print(\"Fibonacci sequence:\")\n",
    "       while count < n:\n",
    "            print(n2, end=' ')\n",
    "            nth = n1 + n2\n",
    "            # update values\n",
    "            n1 = n2\n",
    "            n2 = nth\n",
    "            count += 1\n",
    "            \n",
    "fib()"
   ]
  },
  {
   "cell_type": "code",
   "execution_count": null,
   "metadata": {},
   "outputs": [],
   "source": []
  }
 ],
 "metadata": {
  "kernelspec": {
   "display_name": "Python 3",
   "language": "python",
   "name": "python3"
  },
  "language_info": {
   "codemirror_mode": {
    "name": "ipython",
    "version": 3
   },
   "file_extension": ".py",
   "mimetype": "text/x-python",
   "name": "python",
   "nbconvert_exporter": "python",
   "pygments_lexer": "ipython3",
   "version": "3.7.6"
  }
 },
 "nbformat": 4,
 "nbformat_minor": 4
}
